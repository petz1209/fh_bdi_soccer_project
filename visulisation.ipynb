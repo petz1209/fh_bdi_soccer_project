{
 "cells": [
  {
   "cell_type": "markdown",
   "metadata": {},
   "source": [
    "# Are criminals born on the soccer field? Debunking of a myth"
   ]
  },
  {
   "cell_type": "markdown",
   "source": [
    "### Stereotypes and prejudices often find their way into various aspects of our lives - including sports. One of those assumptions is that the murder-rate of a country correlates with the \"fairness\" of soccer players coming from that very country. To put it more concretely - some people might believe that players from countries with high murder rates tend to commit more fouls and consequently receive more yellow and red cards.\n",
    "\n",
    "\n",
    "### In this project, we want to put this hypothesis to the test. To do this, we examine several aspects from the world of soccer. We analyze different metrics like fouls committed in total and per minutes played, yellow and red cards. Finally, we examine the correlation between a country's murder-rate and the behavior of its’ soccer players."
   ],
   "metadata": {
    "collapsed": false
   }
  },
  {
   "cell_type": "markdown",
   "metadata": {},
   "source": [
    "### Import the necessary moduls"
   ]
  },
  {
   "cell_type": "code",
   "execution_count": 1,
   "metadata": {
    "ExecuteTime": {
     "start_time": "2023-05-01T21:03:06.967699Z",
     "end_time": "2023-05-01T21:03:07.845188Z"
    }
   },
   "outputs": [],
   "source": [
    "try:\n",
    "    import pymongo\n",
    "    from pymongo import MongoClient\n",
    "    import folium\n",
    "    import pandas as pd\n",
    "    import wget\n",
    "    import json\n",
    "    import matplotlib.pyplot as plt\n",
    "    import matplotlib.style as style\n",
    "    import seaborn as sns\n",
    "    from PIL import Image\n",
    "    import requests\n",
    "    from io import BytesIO\n",
    "    from IPython.display import display\n",
    "except ImportError:\n",
    "    !pip install pymongo\n",
    "    import pymongo\n",
    "    from pymongo import MongoClient\n",
    "    !pip install folium\n",
    "    import folium\n",
    "    !pip install pandas\n",
    "    import pandas as pd\n",
    "    !pip install wget\n",
    "    import wget\n",
    "    wget.download('https://raw.githubusercontent.com/python-visualization/folium/master/examples/data/world-countries.json', 'world-countries.json')\n",
    "    import json\n",
    "    !pip install matplotlib\n",
    "    import matplotlib.pyplot as plt\n",
    "    import matplotlib.style as style\n",
    "    !pip install seaborn\n",
    "    import seaborn as sns\n",
    "    !pip install PIL\n",
    "    from PIL import Image\n",
    "    !pip install requests\n",
    "    import requests\n",
    "    !pip install io\n",
    "    from io import BytesIO\n",
    "    !pip install IPython.display\n",
    "    from IPython.display import display"
   ]
  },
  {
   "cell_type": "markdown",
   "metadata": {},
   "source": [
    "## The data dance\n",
    "\n",
    "Before we could start the analysis, we had to collect data from two different sources (Transfermarkt.at and Wikipedia). For this purpose we used a web crawler, which downloaded various data from the websites and stored it using JSON files into our MongoDB database, which was running on the infrastructure of the FH Technikum Wien. Subsequently, we had to harmonize parts of the data, especially the exact names of the countries.\n",
    "In order to get a first feeling for the data, we output the form of the data numerically and also created first graphics for the distribution of the data. At first glance, it is clear that the world is safer than one would think.\n"
   ]
  },
  {
   "cell_type": "code",
   "execution_count": 2,
   "metadata": {
    "ExecuteTime": {
     "end_time": "2023-05-01T00:33:17.341277Z",
     "start_time": "2023-05-01T00:33:17.090650Z"
    }
   },
   "outputs": [
    {
     "ename": "ServerSelectionTimeoutError",
     "evalue": "pt-n20.p4001.w3.cs.technikum-wien.at:4001: timed out, Timeout: 30s, Topology Description: <TopologyDescription id: 64500ceb4f1c86c0303b5c18, topology_type: Unknown, servers: [<ServerDescription ('pt-n20.p4001.w3.cs.technikum-wien.at', 4001) server_type: Unknown, rtt: None, error=NetworkTimeout('pt-n20.p4001.w3.cs.technikum-wien.at:4001: timed out')>]>",
     "output_type": "error",
     "traceback": [
      "\u001B[1;31m---------------------------------------------------------------------------\u001B[0m",
      "\u001B[1;31mServerSelectionTimeoutError\u001B[0m               Traceback (most recent call last)",
      "Cell \u001B[1;32mIn[2], line 8\u001B[0m\n\u001B[0;32m      6\u001B[0m cursor \u001B[38;5;241m=\u001B[39m collection\u001B[38;5;241m.\u001B[39mfind({})\n\u001B[0;32m      7\u001B[0m cursor \u001B[38;5;241m=\u001B[39m collection\u001B[38;5;241m.\u001B[39mfind({}, {\u001B[38;5;124m\"\u001B[39m\u001B[38;5;124m_id\u001B[39m\u001B[38;5;124m\"\u001B[39m: \u001B[38;5;241m0\u001B[39m})  \u001B[38;5;66;03m# exclude _id field\u001B[39;00m\n\u001B[1;32m----> 8\u001B[0m data \u001B[38;5;241m=\u001B[39m [doc \u001B[38;5;28;01mfor\u001B[39;00m doc \u001B[38;5;129;01min\u001B[39;00m cursor]\n\u001B[0;32m      9\u001B[0m df \u001B[38;5;241m=\u001B[39m pd\u001B[38;5;241m.\u001B[39mDataFrame(data)\n\u001B[0;32m     11\u001B[0m \u001B[38;5;66;03m#harmonize the country-names\u001B[39;00m\n",
      "Cell \u001B[1;32mIn[2], line 8\u001B[0m, in \u001B[0;36m<listcomp>\u001B[1;34m(.0)\u001B[0m\n\u001B[0;32m      6\u001B[0m cursor \u001B[38;5;241m=\u001B[39m collection\u001B[38;5;241m.\u001B[39mfind({})\n\u001B[0;32m      7\u001B[0m cursor \u001B[38;5;241m=\u001B[39m collection\u001B[38;5;241m.\u001B[39mfind({}, {\u001B[38;5;124m\"\u001B[39m\u001B[38;5;124m_id\u001B[39m\u001B[38;5;124m\"\u001B[39m: \u001B[38;5;241m0\u001B[39m})  \u001B[38;5;66;03m# exclude _id field\u001B[39;00m\n\u001B[1;32m----> 8\u001B[0m data \u001B[38;5;241m=\u001B[39m [doc \u001B[38;5;28;01mfor\u001B[39;00m doc \u001B[38;5;129;01min\u001B[39;00m cursor]\n\u001B[0;32m      9\u001B[0m df \u001B[38;5;241m=\u001B[39m pd\u001B[38;5;241m.\u001B[39mDataFrame(data)\n\u001B[0;32m     11\u001B[0m \u001B[38;5;66;03m#harmonize the country-names\u001B[39;00m\n",
      "File \u001B[1;32m~\\anaconda3\\envs\\fh_bdi_soccer_project\\lib\\site-packages\\pymongo\\cursor.py:1248\u001B[0m, in \u001B[0;36mCursor.next\u001B[1;34m(self)\u001B[0m\n\u001B[0;32m   1246\u001B[0m \u001B[38;5;28;01mif\u001B[39;00m \u001B[38;5;28mself\u001B[39m\u001B[38;5;241m.\u001B[39m__empty:\n\u001B[0;32m   1247\u001B[0m     \u001B[38;5;28;01mraise\u001B[39;00m \u001B[38;5;167;01mStopIteration\u001B[39;00m\n\u001B[1;32m-> 1248\u001B[0m \u001B[38;5;28;01mif\u001B[39;00m \u001B[38;5;28mlen\u001B[39m(\u001B[38;5;28mself\u001B[39m\u001B[38;5;241m.\u001B[39m__data) \u001B[38;5;129;01mor\u001B[39;00m \u001B[38;5;28;43mself\u001B[39;49m\u001B[38;5;241;43m.\u001B[39;49m\u001B[43m_refresh\u001B[49m\u001B[43m(\u001B[49m\u001B[43m)\u001B[49m:\n\u001B[0;32m   1249\u001B[0m     \u001B[38;5;28;01mreturn\u001B[39;00m \u001B[38;5;28mself\u001B[39m\u001B[38;5;241m.\u001B[39m__data\u001B[38;5;241m.\u001B[39mpopleft()\n\u001B[0;32m   1250\u001B[0m \u001B[38;5;28;01melse\u001B[39;00m:\n",
      "File \u001B[1;32m~\\anaconda3\\envs\\fh_bdi_soccer_project\\lib\\site-packages\\pymongo\\cursor.py:1139\u001B[0m, in \u001B[0;36mCursor._refresh\u001B[1;34m(self)\u001B[0m\n\u001B[0;32m   1136\u001B[0m     \u001B[38;5;28;01mreturn\u001B[39;00m \u001B[38;5;28mlen\u001B[39m(\u001B[38;5;28mself\u001B[39m\u001B[38;5;241m.\u001B[39m__data)\n\u001B[0;32m   1138\u001B[0m \u001B[38;5;28;01mif\u001B[39;00m \u001B[38;5;129;01mnot\u001B[39;00m \u001B[38;5;28mself\u001B[39m\u001B[38;5;241m.\u001B[39m__session:\n\u001B[1;32m-> 1139\u001B[0m     \u001B[38;5;28mself\u001B[39m\u001B[38;5;241m.\u001B[39m__session \u001B[38;5;241m=\u001B[39m \u001B[38;5;28;43mself\u001B[39;49m\u001B[38;5;241;43m.\u001B[39;49m\u001B[43m__collection\u001B[49m\u001B[38;5;241;43m.\u001B[39;49m\u001B[43mdatabase\u001B[49m\u001B[38;5;241;43m.\u001B[39;49m\u001B[43mclient\u001B[49m\u001B[38;5;241;43m.\u001B[39;49m\u001B[43m_ensure_session\u001B[49m\u001B[43m(\u001B[49m\u001B[43m)\u001B[49m\n\u001B[0;32m   1141\u001B[0m \u001B[38;5;28;01mif\u001B[39;00m \u001B[38;5;28mself\u001B[39m\u001B[38;5;241m.\u001B[39m__id \u001B[38;5;129;01mis\u001B[39;00m \u001B[38;5;28;01mNone\u001B[39;00m:  \u001B[38;5;66;03m# Query\u001B[39;00m\n\u001B[0;32m   1142\u001B[0m     \u001B[38;5;28;01mif\u001B[39;00m (\u001B[38;5;28mself\u001B[39m\u001B[38;5;241m.\u001B[39m__min \u001B[38;5;129;01mor\u001B[39;00m \u001B[38;5;28mself\u001B[39m\u001B[38;5;241m.\u001B[39m__max) \u001B[38;5;129;01mand\u001B[39;00m \u001B[38;5;129;01mnot\u001B[39;00m \u001B[38;5;28mself\u001B[39m\u001B[38;5;241m.\u001B[39m__hint:\n",
      "File \u001B[1;32m~\\anaconda3\\envs\\fh_bdi_soccer_project\\lib\\site-packages\\pymongo\\mongo_client.py:1740\u001B[0m, in \u001B[0;36mMongoClient._ensure_session\u001B[1;34m(self, session)\u001B[0m\n\u001B[0;32m   1735\u001B[0m     \u001B[38;5;28;01mreturn\u001B[39;00m session\n\u001B[0;32m   1737\u001B[0m \u001B[38;5;28;01mtry\u001B[39;00m:\n\u001B[0;32m   1738\u001B[0m     \u001B[38;5;66;03m# Don't make implicit sessions causally consistent. Applications\u001B[39;00m\n\u001B[0;32m   1739\u001B[0m     \u001B[38;5;66;03m# should always opt-in.\u001B[39;00m\n\u001B[1;32m-> 1740\u001B[0m     \u001B[38;5;28;01mreturn\u001B[39;00m \u001B[38;5;28;43mself\u001B[39;49m\u001B[38;5;241;43m.\u001B[39;49m\u001B[43m__start_session\u001B[49m\u001B[43m(\u001B[49m\u001B[38;5;28;43;01mTrue\u001B[39;49;00m\u001B[43m,\u001B[49m\u001B[43m \u001B[49m\u001B[43mcausal_consistency\u001B[49m\u001B[38;5;241;43m=\u001B[39;49m\u001B[38;5;28;43;01mFalse\u001B[39;49;00m\u001B[43m)\u001B[49m\n\u001B[0;32m   1741\u001B[0m \u001B[38;5;28;01mexcept\u001B[39;00m (ConfigurationError, InvalidOperation):\n\u001B[0;32m   1742\u001B[0m     \u001B[38;5;66;03m# Sessions not supported.\u001B[39;00m\n\u001B[0;32m   1743\u001B[0m     \u001B[38;5;28;01mreturn\u001B[39;00m \u001B[38;5;28;01mNone\u001B[39;00m\n",
      "File \u001B[1;32m~\\anaconda3\\envs\\fh_bdi_soccer_project\\lib\\site-packages\\pymongo\\mongo_client.py:1685\u001B[0m, in \u001B[0;36mMongoClient.__start_session\u001B[1;34m(self, implicit, **kwargs)\u001B[0m\n\u001B[0;32m   1682\u001B[0m \u001B[38;5;28;01mdef\u001B[39;00m \u001B[38;5;21m__start_session\u001B[39m(\u001B[38;5;28mself\u001B[39m, implicit, \u001B[38;5;241m*\u001B[39m\u001B[38;5;241m*\u001B[39mkwargs):\n\u001B[0;32m   1683\u001B[0m     \u001B[38;5;66;03m# Raises ConfigurationError if sessions are not supported.\u001B[39;00m\n\u001B[0;32m   1684\u001B[0m     \u001B[38;5;28;01mif\u001B[39;00m implicit:\n\u001B[1;32m-> 1685\u001B[0m         \u001B[38;5;28;43mself\u001B[39;49m\u001B[38;5;241;43m.\u001B[39;49m\u001B[43m_topology\u001B[49m\u001B[38;5;241;43m.\u001B[39;49m\u001B[43m_check_implicit_session_support\u001B[49m\u001B[43m(\u001B[49m\u001B[43m)\u001B[49m\n\u001B[0;32m   1686\u001B[0m         server_session \u001B[38;5;241m=\u001B[39m _EmptyServerSession()\n\u001B[0;32m   1687\u001B[0m     \u001B[38;5;28;01melse\u001B[39;00m:\n",
      "File \u001B[1;32m~\\anaconda3\\envs\\fh_bdi_soccer_project\\lib\\site-packages\\pymongo\\topology.py:538\u001B[0m, in \u001B[0;36mTopology._check_implicit_session_support\u001B[1;34m(self)\u001B[0m\n\u001B[0;32m    536\u001B[0m \u001B[38;5;28;01mdef\u001B[39;00m \u001B[38;5;21m_check_implicit_session_support\u001B[39m(\u001B[38;5;28mself\u001B[39m):\n\u001B[0;32m    537\u001B[0m     \u001B[38;5;28;01mwith\u001B[39;00m \u001B[38;5;28mself\u001B[39m\u001B[38;5;241m.\u001B[39m_lock:\n\u001B[1;32m--> 538\u001B[0m         \u001B[38;5;28;43mself\u001B[39;49m\u001B[38;5;241;43m.\u001B[39;49m\u001B[43m_check_session_support\u001B[49m\u001B[43m(\u001B[49m\u001B[43m)\u001B[49m\n",
      "File \u001B[1;32m~\\anaconda3\\envs\\fh_bdi_soccer_project\\lib\\site-packages\\pymongo\\topology.py:554\u001B[0m, in \u001B[0;36mTopology._check_session_support\u001B[1;34m(self)\u001B[0m\n\u001B[0;32m    550\u001B[0m         \u001B[38;5;28mself\u001B[39m\u001B[38;5;241m.\u001B[39m_select_servers_loop(\n\u001B[0;32m    551\u001B[0m             any_server_selector, \u001B[38;5;28mself\u001B[39m\u001B[38;5;241m.\u001B[39mget_server_selection_timeout(), \u001B[38;5;28;01mNone\u001B[39;00m\n\u001B[0;32m    552\u001B[0m         )\n\u001B[0;32m    553\u001B[0m \u001B[38;5;28;01melif\u001B[39;00m \u001B[38;5;129;01mnot\u001B[39;00m \u001B[38;5;28mself\u001B[39m\u001B[38;5;241m.\u001B[39m_description\u001B[38;5;241m.\u001B[39mreadable_servers:\n\u001B[1;32m--> 554\u001B[0m     \u001B[38;5;28;43mself\u001B[39;49m\u001B[38;5;241;43m.\u001B[39;49m\u001B[43m_select_servers_loop\u001B[49m\u001B[43m(\u001B[49m\n\u001B[0;32m    555\u001B[0m \u001B[43m        \u001B[49m\u001B[43mreadable_server_selector\u001B[49m\u001B[43m,\u001B[49m\u001B[43m \u001B[49m\u001B[38;5;28;43mself\u001B[39;49m\u001B[38;5;241;43m.\u001B[39;49m\u001B[43mget_server_selection_timeout\u001B[49m\u001B[43m(\u001B[49m\u001B[43m)\u001B[49m\u001B[43m,\u001B[49m\u001B[43m \u001B[49m\u001B[38;5;28;43;01mNone\u001B[39;49;00m\n\u001B[0;32m    556\u001B[0m \u001B[43m    \u001B[49m\u001B[43m)\u001B[49m\n\u001B[0;32m    558\u001B[0m session_timeout \u001B[38;5;241m=\u001B[39m \u001B[38;5;28mself\u001B[39m\u001B[38;5;241m.\u001B[39m_description\u001B[38;5;241m.\u001B[39mlogical_session_timeout_minutes\n\u001B[0;32m    559\u001B[0m \u001B[38;5;28;01mif\u001B[39;00m session_timeout \u001B[38;5;129;01mis\u001B[39;00m \u001B[38;5;28;01mNone\u001B[39;00m:\n",
      "File \u001B[1;32m~\\anaconda3\\envs\\fh_bdi_soccer_project\\lib\\site-packages\\pymongo\\topology.py:238\u001B[0m, in \u001B[0;36mTopology._select_servers_loop\u001B[1;34m(self, selector, timeout, address)\u001B[0m\n\u001B[0;32m    235\u001B[0m \u001B[38;5;28;01mwhile\u001B[39;00m \u001B[38;5;129;01mnot\u001B[39;00m server_descriptions:\n\u001B[0;32m    236\u001B[0m     \u001B[38;5;66;03m# No suitable servers.\u001B[39;00m\n\u001B[0;32m    237\u001B[0m     \u001B[38;5;28;01mif\u001B[39;00m timeout \u001B[38;5;241m==\u001B[39m \u001B[38;5;241m0\u001B[39m \u001B[38;5;129;01mor\u001B[39;00m now \u001B[38;5;241m>\u001B[39m end_time:\n\u001B[1;32m--> 238\u001B[0m         \u001B[38;5;28;01mraise\u001B[39;00m ServerSelectionTimeoutError(\n\u001B[0;32m    239\u001B[0m             \u001B[38;5;124m\"\u001B[39m\u001B[38;5;132;01m%s\u001B[39;00m\u001B[38;5;124m, Timeout: \u001B[39m\u001B[38;5;132;01m%s\u001B[39;00m\u001B[38;5;124ms, Topology Description: \u001B[39m\u001B[38;5;132;01m%r\u001B[39;00m\u001B[38;5;124m\"\u001B[39m\n\u001B[0;32m    240\u001B[0m             \u001B[38;5;241m%\u001B[39m (\u001B[38;5;28mself\u001B[39m\u001B[38;5;241m.\u001B[39m_error_message(selector), timeout, \u001B[38;5;28mself\u001B[39m\u001B[38;5;241m.\u001B[39mdescription)\n\u001B[0;32m    241\u001B[0m         )\n\u001B[0;32m    243\u001B[0m     \u001B[38;5;28mself\u001B[39m\u001B[38;5;241m.\u001B[39m_ensure_opened()\n\u001B[0;32m    244\u001B[0m     \u001B[38;5;28mself\u001B[39m\u001B[38;5;241m.\u001B[39m_request_check_all()\n",
      "\u001B[1;31mServerSelectionTimeoutError\u001B[0m: pt-n20.p4001.w3.cs.technikum-wien.at:4001: timed out, Timeout: 30s, Topology Description: <TopologyDescription id: 64500ceb4f1c86c0303b5c18, topology_type: Unknown, servers: [<ServerDescription ('pt-n20.p4001.w3.cs.technikum-wien.at', 4001) server_type: Unknown, rtt: None, error=NetworkTimeout('pt-n20.p4001.w3.cs.technikum-wien.at:4001: timed out')>]>"
     ]
    }
   ],
   "source": [
    "client = MongoClient(\"mongodb://pt-n20.p4001.w3.cs.technikum-wien.at:4001\")\n",
    "db = client[\"criminalSoccer\"]\n",
    "\n",
    "#Client for the homicide data\n",
    "collection = db[\"countries\"]\n",
    "cursor = collection.find({})\n",
    "cursor = collection.find({}, {\"_id\": 0})  # exclude _id field\n",
    "data = [doc for doc in cursor]\n",
    "df = pd.DataFrame(data)\n",
    "\n",
    "#harmonize the country-names\n",
    "df[\"country\"] = df[\"country\"].replace({\"United States\": \"United States of America\",\n",
    "                                       \"Serbia\": \"Republic of Serbia\",\n",
    "                                       \"North Macedonia\": \"Macedonia\"})\n",
    "\n",
    "\n",
    "\n",
    "#client for the foul statistics\n",
    "collection_players = db[\"players\"]\n",
    "cursor = collection_players.find({})\n",
    "data_players = [doc for doc in cursor]\n",
    "df_players = pd.DataFrame(data_players)\n",
    "\n",
    "#harmonize the country-names\n",
    "df_players[\"nationality\"] = df_players[\"nationality\"].replace({\"United States\": \"United States of America\",\n",
    "                                                               \"Serbia\": \"Republic of Serbia\",\n",
    "                                                               \"North Macedonia\": \"Macedonia\"})\n",
    "\n",
    "display(df.head(), df_players.head())"
   ]
  },
  {
   "cell_type": "markdown",
   "metadata": {},
   "source": [
    "## General overview of the homicide-data"
   ]
  },
  {
   "cell_type": "code",
   "execution_count": null,
   "metadata": {
    "ExecuteTime": {
     "end_time": "2023-05-01T00:33:17.972205Z",
     "start_time": "2023-05-01T00:33:17.341277Z"
    }
   },
   "outputs": [],
   "source": [
    "display(df.describe())\n",
    "\n",
    "style.use('seaborn-v0_8-dark')\n",
    "\n",
    "# create the boxplot\n",
    "plt.boxplot(df['count_p_100k'])\n",
    "\n",
    "# add a title and axis labels\n",
    "plt.title(\"Homocides per 100.000 inhabitants\", fontsize=18, fontweight='bold')\n",
    "plt.xlabel(\"Count per 100k\", fontsize=14)\n",
    "\n",
    "# adjust tick font size\n",
    "plt.tick_params(axis=\"both\", which=\"major\", labelsize=12)\n",
    "\n",
    "# add gridlines\n",
    "plt.grid(axis='y', alpha=0.5)\n",
    "\n",
    "plt.tight_layout()\n",
    "plt.show()\n",
    "\n",
    "\n",
    "# set the style to seaborn-v0_8-dark\n",
    "style.use('seaborn-v0_8-dark')\n",
    "\n",
    "# create the histogram with 10 bins\n",
    "plt.hist(df['count_p_100k'], bins=10, color='#008fd5', edgecolor='white')\n",
    "\n",
    "# set the x-axis labels to display in 5s\n",
    "plt.xticks(range(0, int(max(df['count_p_100k']))+1, 5))\n",
    "\n",
    "# set the y-axis labels to display in 10s\n",
    "plt.yticks(range(0, int(max(plt.hist(df['count_p_100k'], bins=10)[0]))+1, 10))\n",
    "\n",
    "# add a title and axis labels\n",
    "plt.title(\"Homocides per 100.000 inhabitants\", fontsize=18, fontweight='bold')\n",
    "plt.xlabel(\"Count per 100k\", fontsize=14)\n",
    "plt.ylabel(\"Frequency\", fontsize=14)\n",
    "\n",
    "# adjust tick font size\n",
    "plt.tick_params(axis=\"both\", which=\"major\", labelsize=12)\n",
    "\n",
    "# add gridlines\n",
    "plt.grid(axis='both', alpha=0.5)\n",
    "\n",
    "plt.tight_layout()\n",
    "plt.show()"
   ]
  },
  {
   "cell_type": "markdown",
   "metadata": {},
   "source": [
    "## A colorful view of the world\n",
    "\n",
    "To make our study more comprehensive, we decided to visualize the murder-rate on an interactive world map. We decided to scale from minimum to maximum, divided into 100 sections, so that even minor differences could be seen in color. This allowed us to see at a glance the countries with the highest and lowest homicide rates, which added another dimension to our understanding of the data.\n",
    "Next, we turned our attention to soccer players. We aggregated the data by nationality and analyzed metrics such as fouls committed, minutes played, and cards received. We then created another interactive world map, this time visualizing fouls per minute.\n"
   ]
  },
  {
   "cell_type": "code",
   "execution_count": null,
   "metadata": {
    "ExecuteTime": {
     "end_time": "2023-05-01T00:33:18.658463Z",
     "start_time": "2023-05-01T00:33:17.980507Z"
    }
   },
   "outputs": [],
   "source": [
    "m = folium.Map(location=[0, 0], zoom_start=2)\n",
    "\n",
    "# Add the choropleth layer\n",
    "choropleth = folium.Choropleth(\n",
    "    geo_data='world-countries.json',\n",
    "    name='choropleth',\n",
    "    data=df.to_dict('split')['data'],\n",
    "    columns=['country', 'count_p_100k'],\n",
    "    key_on='feature.properties.name',\n",
    "    fill_color='YlOrRd',\n",
    "    fill_opacity=0.7,\n",
    "    line_opacity=0.2,\n",
    "    legend_name='Homocide-rate per 100.000 inhabitants',\n",
    "    bins=100\n",
    ").add_to(m)\n",
    "\n",
    "# Load the original GeoJSON data\n",
    "with open('world-countries.json') as file:\n",
    "    geojson_data = json.load(file)\n",
    "\n",
    "# Create a dictionary with country names as keys and homicide rates as values\n",
    "country_dict = df.set_index('country')['count_p_100k'].to_dict()\n",
    "\n",
    "# Function to get the homicide rate for a given country\n",
    "def get_homicide_rate(country_name):\n",
    "    return country_dict.get(country_name, 'N/A')\n",
    "\n",
    "# Create GeoJson layer for popups\n",
    "popup_layer = folium.GeoJson(\n",
    "    data=geojson_data,\n",
    "    name='Popups',\n",
    "    style_function=lambda feature: {\n",
    "        'fillColor': '#00000000',\n",
    "        'color': 'black',\n",
    "        'weight': 0.5,\n",
    "        'dashArray': '5, 5',\n",
    "        'fillOpacity': 0\n",
    "    }\n",
    ")\n",
    "\n",
    "# Add custom popups with country name and homicide rate to the popup layer\n",
    "for feature in geojson_data['features']:\n",
    "    country_name = feature['properties']['name']\n",
    "    homicide_rate = get_homicide_rate(country_name)\n",
    "    popup = folium.Popup(f\"{country_name}: {homicide_rate} homocides per 100k\")\n",
    "    folium.GeoJson(\n",
    "        data=feature,\n",
    "        style_function=lambda feature: {\n",
    "            'fillColor': '#00000000',\n",
    "            'color': 'black',\n",
    "            'weight': 0.3,\n",
    "            'fillOpacity': 0\n",
    "        },\n",
    "        popup=popup\n",
    "    ).add_to(popup_layer)\n",
    "\n",
    "popup_layer.add_to(m)\n",
    "\n",
    "# Add the layer control\n",
    "folium.LayerControl().add_to(m)\n",
    "\n",
    "# Show the map\n",
    "m\n",
    "\n"
   ]
  },
  {
   "cell_type": "markdown",
   "metadata": {},
   "source": [
    "## Perform data aggregation and cleansing on player data"
   ]
  },
  {
   "cell_type": "code",
   "execution_count": null,
   "metadata": {
    "ExecuteTime": {
     "end_time": "2023-05-01T00:33:21.899670Z",
     "start_time": "2023-05-01T00:33:18.659514Z"
    }
   },
   "outputs": [],
   "source": [
    "data_agg = pd.DataFrame({\n",
    "    \"Country\": df[\"country\"],\n",
    "    \"homicide rate\": df[\"count_p_100k\"],\n",
    "    \"count of player\": 0,\n",
    "    \"fouls committed\": 0,\n",
    "    \"minutes played\": 0,\n",
    "    \"yellow card received\": 0,\n",
    "    \"red card received\": 0\n",
    "})\n",
    "\n",
    "uk_countries = {\n",
    "    \"England\": \"United Kingdom\",\n",
    "    \"Scotland\": \"United Kingdom\",\n",
    "    \"Wales\": \"United Kingdom\"\n",
    "}\n",
    "\n",
    "# aggregate data by country and player\n",
    "for _, player in df_players.iterrows():\n",
    "    if player[\"position\"] != \"Goalkeeper\":\n",
    "        player_nationality = player[\"nationality\"]\n",
    "        # Map the nationality to United Kingdom if it's England, Scotland, or Wales\n",
    "        if player_nationality in uk_countries:\n",
    "            player_nationality = uk_countries[player_nationality]\n",
    "\n",
    "        country_mask = data_agg[\"Country\"] == player_nationality\n",
    "        idx = data_agg.loc[country_mask].index\n",
    "        if not idx.empty:\n",
    "            data_agg.loc[idx, \"count of player\"] += 1\n",
    "            data_agg.loc[idx, \"fouls committed\"] += player[\"fouls_committed\"] if pd.notna(player[\"fouls_committed\"]) else 0\n",
    "            data_agg.loc[idx, \"minutes played\"] += player[\"minutes_played\"]\n",
    "            data_agg.loc[idx, \"yellow card received\"] += player[\"yellow\"] if pd.notna(player[\"yellow\"]) else 0\n",
    "            data_agg.loc[idx, \"red card received\"] += player[\"red\"] if pd.notna(player[\"red\"]) else 0\n",
    "\n",
    "\n",
    "data_agg[\"fouls per minute\"] = data_agg[\"fouls committed\"] / data_agg[\"minutes played\"]\n",
    "data_agg[\"yellow per minute\"] = data_agg[\"yellow card received\"] / data_agg[\"minutes played\"]\n",
    "data_agg[\"red per minute\"] = data_agg[\"red card received\"] / data_agg[\"minutes played\"]\n",
    "\n",
    "\n",
    "display(data_agg.head())\n"
   ]
  },
  {
   "cell_type": "markdown",
   "metadata": {},
   "source": [
    "## Visualise the fouls per minuted played on the world map"
   ]
  },
  {
   "cell_type": "code",
   "execution_count": null,
   "metadata": {
    "ExecuteTime": {
     "end_time": "2023-05-01T00:33:22.365332Z",
     "start_time": "2023-05-01T00:33:21.899670Z"
    }
   },
   "outputs": [],
   "source": [
    "# Filter out rows with NaN values in the 'fouls per minute' column\n",
    "data_agg_filtered = data_agg.dropna(subset=['fouls per minute'])\n",
    "\n",
    "# Convert the DataFrame data into a dictionary with country names as keys and fouls per minute as values\n",
    "fouls_dict = data_agg_filtered.set_index('Country')['fouls per minute'].to_dict()\n",
    "\n",
    "m = folium.Map(location=[0, 0], zoom_start=2)\n",
    "\n",
    "# Add the choropleth layer\n",
    "choropleth = folium.Choropleth(\n",
    "    geo_data='world-countries.json',\n",
    "    name='choropleth',\n",
    "    data=data_agg_filtered,\n",
    "    columns=['Country', 'fouls per minute'],\n",
    "    key_on='feature.properties.name',\n",
    "    fill_color='YlOrRd',\n",
    "    fill_opacity=0.7,\n",
    "    line_opacity=0.2,\n",
    "    legend_name='Fouls per minute',\n",
    "    bins=100\n",
    ").add_to(m)\n",
    "\n",
    "# Function to get the fouls per minute for a given country\n",
    "def get_fouls_per_minute(country_name):\n",
    "    return fouls_dict.get(country_name, 'N/A')\n",
    "\n",
    "# Create GeoJson layer for popups\n",
    "popup_layer = folium.GeoJson(\n",
    "    data=geojson_data,\n",
    "    name='Popups',\n",
    "    style_function=lambda feature: {\n",
    "        'fillColor': '#00000000',\n",
    "        'color': 'black',\n",
    "        'weight': 0.5,\n",
    "        'dashArray': '5, 5',\n",
    "        'fillOpacity': 0\n",
    "    }\n",
    ")\n",
    "\n",
    "# Add custom popups with country name and fouls per minute to the popup layer\n",
    "for feature in geojson_data['features']:\n",
    "    country_name = feature['properties']['name']\n",
    "    fouls_per_minute = get_fouls_per_minute(country_name)\n",
    "    popup = folium.Popup(f\"{country_name}: {fouls_per_minute} fouls per minute\")\n",
    "    folium.GeoJson(\n",
    "        data=feature,\n",
    "        style_function=lambda feature: {\n",
    "            'fillColor': '#00000000',\n",
    "            'color': 'black',\n",
    "            'weight': 0.3,\n",
    "            'fillOpacity': 0\n",
    "        },\n",
    "        popup=popup\n",
    "    ).add_to(popup_layer)\n",
    "\n",
    "popup_layer.add_to(m)\n",
    "\n",
    "# Add the layer control\n",
    "folium.LayerControl().add_to(m)\n",
    "\n",
    "# Show the map\n",
    "m\n",
    "\n"
   ]
  },
  {
   "cell_type": "markdown",
   "source": [
    "## Fair or not? The biggest \"Culprits\"\n",
    "\n",
    "Additionally, we identified the 10 soccer players with the most red cards in that season. By adding names and pictures, we also wanted to make our data-based analysis a bit more tangible and enrich a human touch.\n"
   ],
   "metadata": {
    "collapsed": false
   }
  },
  {
   "cell_type": "code",
   "execution_count": null,
   "metadata": {
    "ExecuteTime": {
     "end_time": "2023-05-01T00:33:22.988482Z",
     "start_time": "2023-05-01T00:33:22.365332Z"
    }
   },
   "outputs": [],
   "source": [
    "# sort the data frame by the red cards received per minute column in descending order\n",
    "df_sorted = df_players.sort_values(by=['red'], ascending=False)\n",
    "\n",
    "# get the top 10 players with the most red cards received per minute\n",
    "for i in range(10):\n",
    "    player_name = df_sorted.iloc[i]['player_name']\n",
    "    red_cards = df_sorted.iloc[i]['red']\n",
    "    nationality = df_sorted.iloc[i]['nationality']\n",
    "    player_icon_url = df_sorted.iloc[i]['icon']\n",
    "\n",
    "    # download the player's icon as bytes\n",
    "    response = requests.get(player_icon_url)\n",
    "    icon_bytes = BytesIO(response.content)\n",
    "\n",
    "    # open the icon as an image and display the name, red cards, and icon\n",
    "    player_icon = Image.open(icon_bytes)\n",
    "    display(player_icon)\n",
    "    print(f\"#{i+1} Player name: {player_name}\")\n",
    "    print(f\"Red cards: {red_cards:.0f}\")\n",
    "    print(f\"Nationality: {nationality}\\n\")\n"
   ]
  },
  {
   "cell_type": "markdown",
   "metadata": {},
   "source": [
    "## Correlation or pure coincidence?\n",
    "\n",
    "The goal of our project was to investigate the correlation between a country's murder rate and the fairness of its soccer players. We calculated the correlation coefficients between the murder-rate and four different measures:\n",
    "- total fouls committed\n",
    "- fouls per minute\n",
    "- yellow cards per minute\n",
    "- red cards per minute\n",
    "\n",
    "\n",
    "To visualize these correlations, we created scatter plots and trend lines for each metric. This allowed us to see if there was a trend between nationality and the sportsmanship of players."
   ]
  },
  {
   "cell_type": "code",
   "execution_count": null,
   "metadata": {
    "ExecuteTime": {
     "end_time": "2023-05-01T00:33:24.603763Z",
     "start_time": "2023-05-01T00:33:22.989515Z"
    }
   },
   "outputs": [],
   "source": [
    "# Calculate the correlation between homicide rate and fouls per minute\n",
    "correlation_fouls_per_minute = data_agg['homicide rate'].corr(data_agg['fouls per minute'])\n",
    "\n",
    "# Calculate the correlation between homicide rate and fouls\n",
    "correlation_fouls = data_agg['homicide rate'].corr(data_agg['fouls committed'])\n",
    "\n",
    "# Calculate the correlation between homicide rate and yellow cards per minute\n",
    "correlation_yellow_per_minute = data_agg['homicide rate'].corr(data_agg['yellow per minute'])\n",
    "\n",
    "# Calculate the correlation between homicide rate and red cards per minute\n",
    "correlation_red_per_minute = data_agg['homicide rate'].corr(data_agg['red per minute'])\n",
    "\n",
    "# Print the correlation coefficients\n",
    "print(\"Correlation between homicide rate and fouls per minute:\", round(correlation_fouls_per_minute, 5))\n",
    "print(\"Correlation between homicide rate and fouls:\", round(correlation_fouls, 5))\n",
    "print(\"Correlation between homicide rate and yellow cards per minute:\", round(correlation_yellow_per_minute, 5))\n",
    "print(\"Correlation between homicide rate and red cards per minute:\", round(correlation_red_per_minute, 5))\n",
    "\n",
    "import seaborn as sns\n",
    "import matplotlib.pyplot as plt\n",
    "\n",
    "# Create a 2x2 subplot grid\n",
    "fig, axes = plt.subplots(2, 2, figsize=(12, 8))\n",
    "fig.suptitle(\"Correlations between homicide rate and football statistics\")\n",
    "\n",
    "# Scatter plot and trendline for the correlation between homicide rate and fouls per minute\n",
    "sns.regplot(ax=axes[0, 0], x='homicide rate', y='fouls per minute', data=data_agg)\n",
    "axes[0, 0].set_title(\"Fouls per Minute\")\n",
    "\n",
    "# Scatter plot and trendline for the correlation between homicide rate and fouls\n",
    "sns.regplot(ax=axes[0, 1], x='homicide rate', y='fouls committed', data=data_agg)\n",
    "axes[0, 1].set_title(\"Fouls Committed\")\n",
    "\n",
    "# Scatter plot and trendline for the correlation between homicide rate and yellow cards per minute\n",
    "sns.regplot(ax=axes[1, 0], x='homicide rate', y='yellow per minute', data=data_agg)\n",
    "axes[1, 0].set_title(\"Yellow Cards per Minute\")\n",
    "\n",
    "# Scatter plot and trendline for the correlation between homicide rate and red cards per minute\n",
    "sns.regplot(ax=axes[1, 1], x='homicide rate', y='red per minute', data=data_agg)\n",
    "axes[1, 1].set_title(\"Red Cards per Minute\")\n",
    "\n",
    "# Adjust the spacing between the subplots\n",
    "plt.tight_layout()\n",
    "\n",
    "# Display the plot\n",
    "plt.show()\n"
   ]
  },
  {
   "cell_type": "markdown",
   "metadata": {},
   "source": [
    "## Debunking the myth\n",
    "\n",
    "After extensive analysis, we found that there is no significant correlation between a country's murder rate and the fairness of soccer players. All correlation coefficients between nationality and fairness were negligibly small, even close to 0, which proves the myth to be false.\n"
   ]
  },
  {
   "cell_type": "code",
   "execution_count": null,
   "outputs": [],
   "source": [],
   "metadata": {
    "collapsed": false
   }
  }
 ],
 "metadata": {
  "kernelspec": {
   "display_name": "Python 3 (ipykernel)",
   "language": "python",
   "name": "python3"
  },
  "language_info": {
   "codemirror_mode": {
    "name": "ipython",
    "version": 3
   },
   "file_extension": ".py",
   "mimetype": "text/x-python",
   "name": "python",
   "nbconvert_exporter": "python",
   "pygments_lexer": "ipython3",
   "version": "3.10.11"
  }
 },
 "nbformat": 4,
 "nbformat_minor": 1
}
